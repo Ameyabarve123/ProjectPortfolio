{
  "cells": [
    {
      "cell_type": "markdown",
      "metadata": {
        "id": "9YOqJHWmo-ou"
      },
      "source": [
        "# Part 1\n",
        "\n",
        "## Implement Neural Network from scratch"
      ]
    },
    {
      "cell_type": "markdown",
      "metadata": {
        "id": "J0YE7RnrZ9q5"
      },
      "source": [
        "## Imports"
      ]
    },
    {
      "cell_type": "code",
      "execution_count": 1,
      "metadata": {
        "id": "GRsPx6mbZ2Zy"
      },
      "outputs": [],
      "source": [
        "import numpy as np\n",
        "import pandas as pd\n",
        "import matplotlib.pyplot as plt\n",
        "from sklearn.model_selection import train_test_split\n",
        "from sklearn.feature_extraction.text import CountVectorizer\n",
        "from math import sqrt\n",
        "from numpy.random import rand\n",
        "import seaborn as sns\n",
        "import matplotlib.pyplot as plt\n",
        "import tensorflow as tf\n",
        "from tensorflow import keras\n",
        "from keras.preprocessing.sequence import pad_sequences\n",
        "from keras.models import Sequential\n",
        "from keras.layers import Dense, Embedding, Flatten\n",
        "from tensorflow.keras.preprocessing.text import one_hot\n",
        "from keras.layers import Dropout\n",
        "from sklearn.metrics import accuracy_score"
      ]
    },
    {
      "cell_type": "markdown",
      "metadata": {
        "id": "_CFqhYUX7pQX"
      },
      "source": [
        "## Read in dataset"
      ]
    },
    {
      "cell_type": "code",
      "execution_count": 2,
      "metadata": {
        "id": "5_Iikrdv7nRt"
      },
      "outputs": [],
      "source": [
        "df = pd.read_csv(\"/content/drive/MyDrive/Colab Notebooks/Machine Learning Projects/HW3/dataset.csv\")\n",
        "df_small = df.sample(n=1000, random_state=42)\n",
        "data = np.array(df_small)"
      ]
    },
    {
      "cell_type": "markdown",
      "metadata": {
        "id": "JLxK7smXdgxW"
      },
      "source": [
        "## Neural Network Class"
      ]
    },
    {
      "cell_type": "code",
      "execution_count": 3,
      "metadata": {
        "id": "ZhpOyyhbdif3"
      },
      "outputs": [],
      "source": [
        "class neural_network:\n",
        "    def __init__(self, layer_sizes, learning_rate=0.01):\n",
        "      self.layer_sizes = layer_sizes\n",
        "      self.learning_rate = learning_rate\n",
        "      # holds the weights bewteen the layers\n",
        "      self.weights = []\n",
        "      # holds the biases for each layer\n",
        "      self.biases = []\n",
        "      # holds the activations for forward pass\n",
        "      self.activations = []\n",
        "\n",
        "      # initialize weights and biases using Xavier/Glorot-like initialization\n",
        "      for i in range(len(layer_sizes)-1):\n",
        "        current_layer_size = layer_sizes[i]\n",
        "        next_layer_size = layer_sizes[i + 1]\n",
        "\n",
        "        # set initialization bounds\n",
        "        lower = -(1.0 / np.sqrt(current_layer_size))\n",
        "        upper = (1.0 / np.sqrt(current_layer_size))\n",
        "\n",
        "        # generate random weights in the specified range\n",
        "        random_numbers = np.random.rand(current_layer_size, next_layer_size)\n",
        "        weight = lower + random_numbers * (upper - lower)\n",
        "\n",
        "        # bias initialized to zeros\n",
        "        bias = np.zeros((1, next_layer_size))\n",
        "\n",
        "        self.weights.append(weight)\n",
        "        self.biases.append(bias)\n",
        "\n",
        "    def forward_propagation(self, X):\n",
        "      # perform forward pass through the network\n",
        "      # first activation is inpu\n",
        "      self.activations = [X]\n",
        "      # list to store linear combinations (Z) at each layer\n",
        "      self.Zs = []\n",
        "      activation = X\n",
        "\n",
        "      for i in range(len(self.weights)):\n",
        "        Z = np.dot(activation, self.weights[i]) + self.biases[i]\n",
        "        self.Zs.append(Z)\n",
        "        # sigmoid activation for all layers\n",
        "        activation = self.sigmoid(Z)\n",
        "        self.activations.append(activation)\n",
        "\n",
        "      return activation\n",
        "\n",
        "    def backpropagation(self, X, y):\n",
        "      m = X.shape[0]\n",
        "      y = y.reshape(-1, 1)\n",
        "\n",
        "      output = self.forward_propagation(X)\n",
        "\n",
        "      # initialize gradients for weights and biases\n",
        "      dW = [0] * len(self.weights)\n",
        "      dB = [0] * len(self.biases)\n",
        "\n",
        "      # derivative of loss w.r.t. activation (mean squared error)\n",
        "      dA = (output - y)\n",
        "\n",
        "      # loop backward through layers\n",
        "      for i in reversed(range(len(self.weights))):\n",
        "        dZ = dA * self.sigmoid_derivative(self.Zs[i])\n",
        "        dW[i] = np.dot(self.activations[i].T, dZ) / m\n",
        "        dB[i] = np.sum(dZ, axis=0, keepdims=True) / m\n",
        "\n",
        "        if i > 0:\n",
        "          dA = np.dot(dZ, self.weights[i].T)\n",
        "\n",
        "      # update weights and biases\n",
        "      for i in range(len(self.weights)):\n",
        "        self.weights[i] -= self.learning_rate * dW[i]\n",
        "        self.biases[i] -= self.learning_rate * dB[i]\n",
        "\n",
        "    def train(self, X, y, epochs):\n",
        "      # train the model using full-batch gradient descent\n",
        "      for epoch in range(epochs):\n",
        "        self.backpropagation(X, y)\n",
        "        if epoch % 100 == 0 or epoch == epochs - 1:\n",
        "          loss = self.cost(X, y)\n",
        "          print(f\"Epoch {epoch}, Loss: {loss:.4f}\")\n",
        "\n",
        "    def cost(self, X, y):\n",
        "      # compute mean squared error loss\n",
        "      m = X.shape[0]\n",
        "      y_hat = self.forward_propagation(X)\n",
        "      return np.mean((y_hat - y.reshape(-1, 1)) ** 2)\n",
        "\n",
        "    def predict(self, X):\n",
        "      # generate predictions (0 or 1)\n",
        "      output = self.forward_propagation(X)\n",
        "      return (output > 0.5).astype(int)\n",
        "\n",
        "    def sigmoid(self, z):\n",
        "      # sigmoid activation function\n",
        "      return 1 / (1 + np.exp(-z))\n",
        "\n",
        "    def sigmoid_derivative(self, z):\n",
        "      # derivative of sigmoid (used in backprop)\n",
        "      sig = self.sigmoid(z)\n",
        "      return sig * (1 - sig)\n",
        "\n",
        "    # other gradient descent methods\n",
        "\n",
        "    def train_sgd(self, X, y, epochs):\n",
        "      m = X.shape[0]\n",
        "      # loop through each specified number of epochs\n",
        "      for epoch in range(epochs):\n",
        "        # iterate through each training sample\n",
        "        for i in range(m):\n",
        "          x_i = X[i].reshape(1, -1)\n",
        "          y_i = np.array([y[i]])\n",
        "          # backpropagation using a single example\n",
        "          self.backpropagation(x_i, y_i)\n",
        "        if epoch % 100 == 0 or epoch == epochs - 1:\n",
        "          loss = self.cost(X, y)\n",
        "          print(f\"[SGD] Epoch {epoch}, Loss: {loss:.4f}\")\n",
        "\n",
        "    def train_minibatch(self, X, y, epochs, batch_size=32):\n",
        "      m = X.shape[0]\n",
        "      for epoch in range(epochs):\n",
        "        # Shuffle the data\n",
        "        indices = np.arange(m)\n",
        "        np.random.shuffle(indices)\n",
        "        X = X[indices]\n",
        "        y = y[indices]\n",
        "\n",
        "        for i in range(0, m, batch_size):\n",
        "          # current mini batch\n",
        "          X_batch = X[i:i + batch_size]\n",
        "          y_batch = y[i:i + batch_size]\n",
        "          self.backpropagation(X_batch, y_batch)\n",
        "        if epoch % 100 == 0 or epoch == epochs - 1:\n",
        "          loss = self.cost(X, y)\n",
        "          print(f\"[MiniBatch] Epoch {epoch}, Loss: {loss:.4f}\")"
      ]
    },
    {
      "cell_type": "markdown",
      "metadata": {
        "id": "iMeu2DZ4EuCc"
      },
      "source": [
        "Binary encoding so our model can understand the values"
      ]
    },
    {
      "cell_type": "code",
      "execution_count": 4,
      "metadata": {
        "id": "aFMJSjd56Y4r"
      },
      "outputs": [],
      "source": [
        "df_small.head()\n",
        "df_small.humor.value_counts()\n",
        "\n",
        "# one hot encoding, converting \"True\" and \"False\" to 1 and 0 respectively\n",
        "df_small['is_funny'] = df_small['humor'].apply(lambda x: 0 if x == False else 1)"
      ]
    },
    {
      "cell_type": "code",
      "execution_count": 5,
      "metadata": {
        "colab": {
          "base_uri": "https://localhost:8080/",
          "height": 206
        },
        "id": "ZY-Fy7vJ7e5D",
        "outputId": "9a9ea367-e5ca-4f63-bab4-7c195562d718"
      },
      "outputs": [
        {
          "output_type": "execute_result",
          "data": {
            "text/plain": [
              "                                                     text  is_funny\n",
              "119737  When is the best time to play racquet sports? ...         1\n",
              "72272   City apartments vs. suburban living: which one...         0\n",
              "158154  San francisco approves health warnings on ads ...         0\n",
              "65426   How white privilege, white supremacy and insti...         0\n",
              "30074   The oil lobby has a pretty predictable respons...         0"
            ],
            "text/html": [
              "\n",
              "  <div id=\"df-c34a411d-783c-4f67-86cb-ce3fba278ff4\" class=\"colab-df-container\">\n",
              "    <div>\n",
              "<style scoped>\n",
              "    .dataframe tbody tr th:only-of-type {\n",
              "        vertical-align: middle;\n",
              "    }\n",
              "\n",
              "    .dataframe tbody tr th {\n",
              "        vertical-align: top;\n",
              "    }\n",
              "\n",
              "    .dataframe thead th {\n",
              "        text-align: right;\n",
              "    }\n",
              "</style>\n",
              "<table border=\"1\" class=\"dataframe\">\n",
              "  <thead>\n",
              "    <tr style=\"text-align: right;\">\n",
              "      <th></th>\n",
              "      <th>text</th>\n",
              "      <th>is_funny</th>\n",
              "    </tr>\n",
              "  </thead>\n",
              "  <tbody>\n",
              "    <tr>\n",
              "      <th>119737</th>\n",
              "      <td>When is the best time to play racquet sports? ...</td>\n",
              "      <td>1</td>\n",
              "    </tr>\n",
              "    <tr>\n",
              "      <th>72272</th>\n",
              "      <td>City apartments vs. suburban living: which one...</td>\n",
              "      <td>0</td>\n",
              "    </tr>\n",
              "    <tr>\n",
              "      <th>158154</th>\n",
              "      <td>San francisco approves health warnings on ads ...</td>\n",
              "      <td>0</td>\n",
              "    </tr>\n",
              "    <tr>\n",
              "      <th>65426</th>\n",
              "      <td>How white privilege, white supremacy and insti...</td>\n",
              "      <td>0</td>\n",
              "    </tr>\n",
              "    <tr>\n",
              "      <th>30074</th>\n",
              "      <td>The oil lobby has a pretty predictable respons...</td>\n",
              "      <td>0</td>\n",
              "    </tr>\n",
              "  </tbody>\n",
              "</table>\n",
              "</div>\n",
              "    <div class=\"colab-df-buttons\">\n",
              "\n",
              "  <div class=\"colab-df-container\">\n",
              "    <button class=\"colab-df-convert\" onclick=\"convertToInteractive('df-c34a411d-783c-4f67-86cb-ce3fba278ff4')\"\n",
              "            title=\"Convert this dataframe to an interactive table.\"\n",
              "            style=\"display:none;\">\n",
              "\n",
              "  <svg xmlns=\"http://www.w3.org/2000/svg\" height=\"24px\" viewBox=\"0 -960 960 960\">\n",
              "    <path d=\"M120-120v-720h720v720H120Zm60-500h600v-160H180v160Zm220 220h160v-160H400v160Zm0 220h160v-160H400v160ZM180-400h160v-160H180v160Zm440 0h160v-160H620v160ZM180-180h160v-160H180v160Zm440 0h160v-160H620v160Z\"/>\n",
              "  </svg>\n",
              "    </button>\n",
              "\n",
              "  <style>\n",
              "    .colab-df-container {\n",
              "      display:flex;\n",
              "      gap: 12px;\n",
              "    }\n",
              "\n",
              "    .colab-df-convert {\n",
              "      background-color: #E8F0FE;\n",
              "      border: none;\n",
              "      border-radius: 50%;\n",
              "      cursor: pointer;\n",
              "      display: none;\n",
              "      fill: #1967D2;\n",
              "      height: 32px;\n",
              "      padding: 0 0 0 0;\n",
              "      width: 32px;\n",
              "    }\n",
              "\n",
              "    .colab-df-convert:hover {\n",
              "      background-color: #E2EBFA;\n",
              "      box-shadow: 0px 1px 2px rgba(60, 64, 67, 0.3), 0px 1px 3px 1px rgba(60, 64, 67, 0.15);\n",
              "      fill: #174EA6;\n",
              "    }\n",
              "\n",
              "    .colab-df-buttons div {\n",
              "      margin-bottom: 4px;\n",
              "    }\n",
              "\n",
              "    [theme=dark] .colab-df-convert {\n",
              "      background-color: #3B4455;\n",
              "      fill: #D2E3FC;\n",
              "    }\n",
              "\n",
              "    [theme=dark] .colab-df-convert:hover {\n",
              "      background-color: #434B5C;\n",
              "      box-shadow: 0px 1px 3px 1px rgba(0, 0, 0, 0.15);\n",
              "      filter: drop-shadow(0px 1px 2px rgba(0, 0, 0, 0.3));\n",
              "      fill: #FFFFFF;\n",
              "    }\n",
              "  </style>\n",
              "\n",
              "    <script>\n",
              "      const buttonEl =\n",
              "        document.querySelector('#df-c34a411d-783c-4f67-86cb-ce3fba278ff4 button.colab-df-convert');\n",
              "      buttonEl.style.display =\n",
              "        google.colab.kernel.accessAllowed ? 'block' : 'none';\n",
              "\n",
              "      async function convertToInteractive(key) {\n",
              "        const element = document.querySelector('#df-c34a411d-783c-4f67-86cb-ce3fba278ff4');\n",
              "        const dataTable =\n",
              "          await google.colab.kernel.invokeFunction('convertToInteractive',\n",
              "                                                    [key], {});\n",
              "        if (!dataTable) return;\n",
              "\n",
              "        const docLinkHtml = 'Like what you see? Visit the ' +\n",
              "          '<a target=\"_blank\" href=https://colab.research.google.com/notebooks/data_table.ipynb>data table notebook</a>'\n",
              "          + ' to learn more about interactive tables.';\n",
              "        element.innerHTML = '';\n",
              "        dataTable['output_type'] = 'display_data';\n",
              "        await google.colab.output.renderOutput(dataTable, element);\n",
              "        const docLink = document.createElement('div');\n",
              "        docLink.innerHTML = docLinkHtml;\n",
              "        element.appendChild(docLink);\n",
              "      }\n",
              "    </script>\n",
              "  </div>\n",
              "\n",
              "\n",
              "    <div id=\"df-1f830b04-b639-4fb8-881e-452be960c7b4\">\n",
              "      <button class=\"colab-df-quickchart\" onclick=\"quickchart('df-1f830b04-b639-4fb8-881e-452be960c7b4')\"\n",
              "                title=\"Suggest charts\"\n",
              "                style=\"display:none;\">\n",
              "\n",
              "<svg xmlns=\"http://www.w3.org/2000/svg\" height=\"24px\"viewBox=\"0 0 24 24\"\n",
              "     width=\"24px\">\n",
              "    <g>\n",
              "        <path d=\"M19 3H5c-1.1 0-2 .9-2 2v14c0 1.1.9 2 2 2h14c1.1 0 2-.9 2-2V5c0-1.1-.9-2-2-2zM9 17H7v-7h2v7zm4 0h-2V7h2v10zm4 0h-2v-4h2v4z\"/>\n",
              "    </g>\n",
              "</svg>\n",
              "      </button>\n",
              "\n",
              "<style>\n",
              "  .colab-df-quickchart {\n",
              "      --bg-color: #E8F0FE;\n",
              "      --fill-color: #1967D2;\n",
              "      --hover-bg-color: #E2EBFA;\n",
              "      --hover-fill-color: #174EA6;\n",
              "      --disabled-fill-color: #AAA;\n",
              "      --disabled-bg-color: #DDD;\n",
              "  }\n",
              "\n",
              "  [theme=dark] .colab-df-quickchart {\n",
              "      --bg-color: #3B4455;\n",
              "      --fill-color: #D2E3FC;\n",
              "      --hover-bg-color: #434B5C;\n",
              "      --hover-fill-color: #FFFFFF;\n",
              "      --disabled-bg-color: #3B4455;\n",
              "      --disabled-fill-color: #666;\n",
              "  }\n",
              "\n",
              "  .colab-df-quickchart {\n",
              "    background-color: var(--bg-color);\n",
              "    border: none;\n",
              "    border-radius: 50%;\n",
              "    cursor: pointer;\n",
              "    display: none;\n",
              "    fill: var(--fill-color);\n",
              "    height: 32px;\n",
              "    padding: 0;\n",
              "    width: 32px;\n",
              "  }\n",
              "\n",
              "  .colab-df-quickchart:hover {\n",
              "    background-color: var(--hover-bg-color);\n",
              "    box-shadow: 0 1px 2px rgba(60, 64, 67, 0.3), 0 1px 3px 1px rgba(60, 64, 67, 0.15);\n",
              "    fill: var(--button-hover-fill-color);\n",
              "  }\n",
              "\n",
              "  .colab-df-quickchart-complete:disabled,\n",
              "  .colab-df-quickchart-complete:disabled:hover {\n",
              "    background-color: var(--disabled-bg-color);\n",
              "    fill: var(--disabled-fill-color);\n",
              "    box-shadow: none;\n",
              "  }\n",
              "\n",
              "  .colab-df-spinner {\n",
              "    border: 2px solid var(--fill-color);\n",
              "    border-color: transparent;\n",
              "    border-bottom-color: var(--fill-color);\n",
              "    animation:\n",
              "      spin 1s steps(1) infinite;\n",
              "  }\n",
              "\n",
              "  @keyframes spin {\n",
              "    0% {\n",
              "      border-color: transparent;\n",
              "      border-bottom-color: var(--fill-color);\n",
              "      border-left-color: var(--fill-color);\n",
              "    }\n",
              "    20% {\n",
              "      border-color: transparent;\n",
              "      border-left-color: var(--fill-color);\n",
              "      border-top-color: var(--fill-color);\n",
              "    }\n",
              "    30% {\n",
              "      border-color: transparent;\n",
              "      border-left-color: var(--fill-color);\n",
              "      border-top-color: var(--fill-color);\n",
              "      border-right-color: var(--fill-color);\n",
              "    }\n",
              "    40% {\n",
              "      border-color: transparent;\n",
              "      border-right-color: var(--fill-color);\n",
              "      border-top-color: var(--fill-color);\n",
              "    }\n",
              "    60% {\n",
              "      border-color: transparent;\n",
              "      border-right-color: var(--fill-color);\n",
              "    }\n",
              "    80% {\n",
              "      border-color: transparent;\n",
              "      border-right-color: var(--fill-color);\n",
              "      border-bottom-color: var(--fill-color);\n",
              "    }\n",
              "    90% {\n",
              "      border-color: transparent;\n",
              "      border-bottom-color: var(--fill-color);\n",
              "    }\n",
              "  }\n",
              "</style>\n",
              "\n",
              "      <script>\n",
              "        async function quickchart(key) {\n",
              "          const quickchartButtonEl =\n",
              "            document.querySelector('#' + key + ' button');\n",
              "          quickchartButtonEl.disabled = true;  // To prevent multiple clicks.\n",
              "          quickchartButtonEl.classList.add('colab-df-spinner');\n",
              "          try {\n",
              "            const charts = await google.colab.kernel.invokeFunction(\n",
              "                'suggestCharts', [key], {});\n",
              "          } catch (error) {\n",
              "            console.error('Error during call to suggestCharts:', error);\n",
              "          }\n",
              "          quickchartButtonEl.classList.remove('colab-df-spinner');\n",
              "          quickchartButtonEl.classList.add('colab-df-quickchart-complete');\n",
              "        }\n",
              "        (() => {\n",
              "          let quickchartButtonEl =\n",
              "            document.querySelector('#df-1f830b04-b639-4fb8-881e-452be960c7b4 button');\n",
              "          quickchartButtonEl.style.display =\n",
              "            google.colab.kernel.accessAllowed ? 'block' : 'none';\n",
              "        })();\n",
              "      </script>\n",
              "    </div>\n",
              "\n",
              "    </div>\n",
              "  </div>\n"
            ],
            "application/vnd.google.colaboratory.intrinsic+json": {
              "type": "dataframe",
              "variable_name": "df_small",
              "summary": "{\n  \"name\": \"df_small\",\n  \"rows\": 1000,\n  \"fields\": [\n    {\n      \"column\": \"text\",\n      \"properties\": {\n        \"dtype\": \"string\",\n        \"num_unique_values\": 1000,\n        \"samples\": [\n          \"What is brown and rhymes with snoop? dr. dre, of course.\",\n          \"Why is santa's sack so big? because he cums once a year.\",\n          \"Time for yankees (and fans) to let go of the 90s\"\n        ],\n        \"semantic_type\": \"\",\n        \"description\": \"\"\n      }\n    },\n    {\n      \"column\": \"is_funny\",\n      \"properties\": {\n        \"dtype\": \"number\",\n        \"std\": 0,\n        \"min\": 0,\n        \"max\": 1,\n        \"num_unique_values\": 2,\n        \"samples\": [\n          0,\n          1\n        ],\n        \"semantic_type\": \"\",\n        \"description\": \"\"\n      }\n    }\n  ]\n}"
            }
          },
          "metadata": {},
          "execution_count": 5
        }
      ],
      "source": [
        "df_small = df_small.drop(['humor'], axis=1)\n",
        "df_small.head()"
      ]
    },
    {
      "cell_type": "code",
      "execution_count": 6,
      "metadata": {
        "id": "LXOqYfS28Ao_"
      },
      "outputs": [],
      "source": [
        "X_train, X_test, y_train, y_test = train_test_split(df_small.text, df_small.is_funny, test_size=0.2)"
      ]
    },
    {
      "cell_type": "code",
      "execution_count": 7,
      "metadata": {
        "colab": {
          "base_uri": "https://localhost:8080/"
        },
        "id": "ti7lwE_l9EVJ",
        "outputId": "0d9885a9-f3a5-4cea-c08b-90928bfbd5a4"
      },
      "outputs": [
        {
          "output_type": "execute_result",
          "data": {
            "text/plain": [
              "<Compressed Sparse Row sparse matrix of dtype 'int64'\n",
              "\twith 8838 stored elements and shape (800, 3375)>"
            ]
          },
          "metadata": {},
          "execution_count": 7
        }
      ],
      "source": [
        "# implementing bag of words technique, so that the model can accurately understand the sentences inputted\n",
        "v = CountVectorizer()\n",
        "X_train_cv = v.fit_transform(X_train.values)\n",
        "X_test_cv = v.transform(X_test)\n",
        "X_train_cv"
      ]
    },
    {
      "cell_type": "code",
      "execution_count": 8,
      "metadata": {
        "colab": {
          "base_uri": "https://localhost:8080/"
        },
        "id": "tGPiQQ_Q9WBW",
        "outputId": "21e94d5f-b6f4-4dca-e910-b63a8387c0d6"
      },
      "outputs": [
        {
          "output_type": "execute_result",
          "data": {
            "text/plain": [
              "array([0, 0, 0, ..., 0, 0, 0])"
            ]
          },
          "metadata": {},
          "execution_count": 8
        }
      ],
      "source": [
        "X_train_cv.toarray()[0]"
      ]
    },
    {
      "cell_type": "code",
      "execution_count": 9,
      "metadata": {
        "colab": {
          "base_uri": "https://localhost:8080/"
        },
        "id": "63Xr_ans9oSS",
        "outputId": "3360e527-d291-4760-9931-a0608ff6c6d3"
      },
      "outputs": [
        {
          "output_type": "execute_result",
          "data": {
            "text/plain": [
              "(800, 3375)"
            ]
          },
          "metadata": {},
          "execution_count": 9
        }
      ],
      "source": [
        "X_train_cv.shape"
      ]
    },
    {
      "cell_type": "code",
      "execution_count": 10,
      "metadata": {
        "colab": {
          "base_uri": "https://localhost:8080/"
        },
        "id": "wOaO9vAO9p2A",
        "outputId": "3d29de17-f38c-4e3e-a898-c346e18da3f7"
      },
      "outputs": [
        {
          "output_type": "execute_result",
          "data": {
            "text/plain": [
              "array(['emo', 'empire', 'employee', 'empowerment', 'empty', 'end',\n",
              "       'ending', 'endor', 'endorses', 'engagement', 'engineer', 'england',\n",
              "       'enjoying', 'enough', 'entertaining', 'entirely',\n",
              "       'entrepreneurism', 'environmentalists', 'epic', 'equality',\n",
              "       'erection', 'erica', 'erika', 'errors', 'escalator', 'escape',\n",
              "       'eskimo', 'especially', 'espn', 'estefan', 'etiquette',\n",
              "       'europeans', 'evangelical', 'eve', 'even', 'event', 'events',\n",
              "       'eventually', 'ever', 'everest', 'every', 'everyone', 'everything',\n",
              "       'ewoks', 'ex', 'except', 'exciting', 'excluded', 'execution',\n",
              "       'executioner'], dtype=object)"
            ]
          },
          "metadata": {},
          "execution_count": 10
        }
      ],
      "source": [
        "v.get_feature_names_out()[1000:1050]"
      ]
    },
    {
      "cell_type": "code",
      "execution_count": 11,
      "metadata": {
        "colab": {
          "base_uri": "https://localhost:8080/"
        },
        "id": "7EYE8lWhnOKo",
        "outputId": "024b271b-5a5f-4b3b-9336-31e7e2d3ef71"
      },
      "outputs": [
        {
          "output_type": "stream",
          "name": "stdout",
          "text": [
            "Mini Batch Gradient Descent:\n",
            "\n",
            "[MiniBatch] Epoch 0, Loss: 0.2506\n",
            "[MiniBatch] Epoch 100, Loss: 0.1765\n",
            "[MiniBatch] Epoch 200, Loss: 0.0919\n",
            "[MiniBatch] Epoch 299, Loss: 0.0543\n",
            "None\n",
            "Mini Batch:\n",
            "\n",
            "Accuracy: 0.8200\n"
          ]
        }
      ],
      "source": [
        "# I ended up using the Mini Batch technique because it had the highest\n",
        "# accuracy, while also having a low training time\n",
        "\n",
        "\n",
        "# input_size = X_train_cv.shape[1]\n",
        "# nn = neural_network([input_size, 100, 1], learning_rate=0.1)\n",
        "\n",
        "# input_size = X_train_cv.shape[1]\n",
        "# nn2 = neural_network([input_size, 100, 1], learning_rate=0.1)\n",
        "\n",
        "input_size = X_train_cv.shape[1]\n",
        "nn3 = neural_network([input_size, 100, 1], learning_rate=0.1)\n",
        "\n",
        "y_true = y_test.values\n",
        "\n",
        "# print(\"Regular Gradient Descent:\\n\")\n",
        "# print(nn.train(X_train_cv.toarray(), y_train.values, epochs=300))\n",
        "\n",
        "# print(\"Stochastic Gradient Descent:\\n\")\n",
        "# print(nn2.train_sgd(X_train_cv.toarray(), y_train.values, epochs=300))\n",
        "\n",
        "print(\"Mini Batch Gradient Descent:\\n\")\n",
        "print(nn3.train_minibatch(X_train_cv.toarray(), y_train.values, epochs=300))\n",
        "\n",
        "# prediction\n",
        "# print(\"Regular Gradient Descent:\\n\")\n",
        "# prediction = nn.predict(X_test_cv.toarray())\n",
        "# # Accuracy\n",
        "# acc = accuracy_score(y_true, prediction)\n",
        "# print(f\"Accuracy: {acc:.4f}\")\n",
        "\n",
        "# prediction stochastic gradient descent\n",
        "# print(\"SGD:\\n\")\n",
        "# prediction = nn2.predict(X_test_cv.toarray())\n",
        "# print(\"Prediction:\", prediction)\n",
        "\n",
        "# prediction mini batch gradient descent\n",
        "print(\"Mini Batch:\\n\")\n",
        "prediction = nn3.predict(X_test_cv.toarray())\n",
        "# Accuracy\n",
        "acc = accuracy_score(y_true, prediction)\n",
        "print(f\"Accuracy: {acc:.4f}\")\n"
      ]
    },
    {
      "cell_type": "markdown",
      "metadata": {
        "id": "sZDfyAoH5Dud"
      },
      "source": [
        "# Part 2\n",
        "Implement a 2-layer neural network using any Deep Learning Framework"
      ]
    },
    {
      "cell_type": "markdown",
      "metadata": {
        "id": "8HYYXvVncbdF"
      },
      "source": [
        "## Explaining why I used certain libraries"
      ]
    },
    {
      "cell_type": "markdown",
      "metadata": {
        "id": "QNhhLjcOcf2i"
      },
      "source": [
        "*   Sequential\n",
        "  *   https://keras.io/guides/sequential_model/\n",
        "  *   Keras' Sequential makes it easy to build a feedforward Neural Network. This makes it easy to define various parameters such as activation functions, and number of layers.\n",
        "\n",
        "*   Layers\n",
        "  *   https://keras.io/api/layers/\n",
        "  *   Embeddings layer was used to convert word indices into dense vector representations\n",
        "  *   Flatten layer was used to reshape the embeddings into a flat layer for dense layers\n",
        "  *   Dense layer is used for the hidden and output layers for the neural network.\n",
        "  *   Dropout is used for regularization, in order to prevent overfitting\n",
        "\n",
        "*   Preprocessing\n",
        "  *   https://www.tensorflow.org/api_docs/python/tf/keras/utils/pad_sequences\n",
        "  *   https://www.tensorflow.org/api_docs/python/tf/keras/preprocessing/text/one_hot\n",
        "  *   one_hot is used for converting sentences into sequences of integers\n",
        "  *   pad_sequences makes sure that all the sentences are the same length, allowing the model to easily learn from the given data.\n",
        "\n",
        "*   Model Training\n",
        "  *   https://keras.io/api/models/model_training_apis/\n",
        "  *   .compile compiles the prepares the model for training\n",
        "  *   .fit trains the model, and allows me to easily create a validation set of data\n",
        "  *   .evaluate allows me to easily determine the performance of the model\n",
        "\n",
        "*   Accuracy\n",
        "  *   https://scikit-learn.org/stable/modules/generated/sklearn.metrics.accuracy_score.html\n",
        "  *   accuracy_score calculates the model accuracy for the model\n",
        "\n",
        "\n",
        "\n",
        "\n",
        "\n",
        "\n",
        "\n",
        "\n"
      ]
    },
    {
      "cell_type": "markdown",
      "metadata": {
        "id": "SX17EseJchUO"
      },
      "source": [
        "## Code"
      ]
    },
    {
      "cell_type": "markdown",
      "metadata": {
        "id": "W6H6NWpA9o8E"
      },
      "source": [
        "# Exploratory Data Analysis\n"
      ]
    },
    {
      "cell_type": "markdown",
      "metadata": {
        "id": "kyiUC8AB9pzJ"
      },
      "source": [
        "## Understanding the Problem and the Data"
      ]
    },
    {
      "cell_type": "markdown",
      "metadata": {
        "id": "tg6NbzPd9sWJ"
      },
      "source": [
        "The goal of this project is for users to have an easy and accessible way to see if their joke is funny. The data for this model will include English sentences."
      ]
    },
    {
      "cell_type": "markdown",
      "metadata": {
        "id": "Q1EO57ev-Fuy"
      },
      "source": [
        "## Inspecting data"
      ]
    },
    {
      "cell_type": "code",
      "execution_count": 12,
      "metadata": {
        "colab": {
          "base_uri": "https://localhost:8080/",
          "height": 206
        },
        "id": "9k0XSUY15MGh",
        "outputId": "b8739e12-de6d-4d02-d4e4-1473b2474bc7"
      },
      "outputs": [
        {
          "output_type": "execute_result",
          "data": {
            "text/plain": [
              "                                                text  humor\n",
              "0  Joe biden rules out 2020 bid: 'guys, i'm not r...  False\n",
              "1  Watch: darvish gave hitter whiplash with slow ...  False\n",
              "2  What do you call a turtle without its shell? d...   True\n",
              "3      5 reasons the 2016 election feels so personal  False\n",
              "4  Pasco police shot mexican migrant from behind,...  False"
            ],
            "text/html": [
              "\n",
              "  <div id=\"df-69078e17-24bf-48ee-80d0-9bb30498d3fd\" class=\"colab-df-container\">\n",
              "    <div>\n",
              "<style scoped>\n",
              "    .dataframe tbody tr th:only-of-type {\n",
              "        vertical-align: middle;\n",
              "    }\n",
              "\n",
              "    .dataframe tbody tr th {\n",
              "        vertical-align: top;\n",
              "    }\n",
              "\n",
              "    .dataframe thead th {\n",
              "        text-align: right;\n",
              "    }\n",
              "</style>\n",
              "<table border=\"1\" class=\"dataframe\">\n",
              "  <thead>\n",
              "    <tr style=\"text-align: right;\">\n",
              "      <th></th>\n",
              "      <th>text</th>\n",
              "      <th>humor</th>\n",
              "    </tr>\n",
              "  </thead>\n",
              "  <tbody>\n",
              "    <tr>\n",
              "      <th>0</th>\n",
              "      <td>Joe biden rules out 2020 bid: 'guys, i'm not r...</td>\n",
              "      <td>False</td>\n",
              "    </tr>\n",
              "    <tr>\n",
              "      <th>1</th>\n",
              "      <td>Watch: darvish gave hitter whiplash with slow ...</td>\n",
              "      <td>False</td>\n",
              "    </tr>\n",
              "    <tr>\n",
              "      <th>2</th>\n",
              "      <td>What do you call a turtle without its shell? d...</td>\n",
              "      <td>True</td>\n",
              "    </tr>\n",
              "    <tr>\n",
              "      <th>3</th>\n",
              "      <td>5 reasons the 2016 election feels so personal</td>\n",
              "      <td>False</td>\n",
              "    </tr>\n",
              "    <tr>\n",
              "      <th>4</th>\n",
              "      <td>Pasco police shot mexican migrant from behind,...</td>\n",
              "      <td>False</td>\n",
              "    </tr>\n",
              "  </tbody>\n",
              "</table>\n",
              "</div>\n",
              "    <div class=\"colab-df-buttons\">\n",
              "\n",
              "  <div class=\"colab-df-container\">\n",
              "    <button class=\"colab-df-convert\" onclick=\"convertToInteractive('df-69078e17-24bf-48ee-80d0-9bb30498d3fd')\"\n",
              "            title=\"Convert this dataframe to an interactive table.\"\n",
              "            style=\"display:none;\">\n",
              "\n",
              "  <svg xmlns=\"http://www.w3.org/2000/svg\" height=\"24px\" viewBox=\"0 -960 960 960\">\n",
              "    <path d=\"M120-120v-720h720v720H120Zm60-500h600v-160H180v160Zm220 220h160v-160H400v160Zm0 220h160v-160H400v160ZM180-400h160v-160H180v160Zm440 0h160v-160H620v160ZM180-180h160v-160H180v160Zm440 0h160v-160H620v160Z\"/>\n",
              "  </svg>\n",
              "    </button>\n",
              "\n",
              "  <style>\n",
              "    .colab-df-container {\n",
              "      display:flex;\n",
              "      gap: 12px;\n",
              "    }\n",
              "\n",
              "    .colab-df-convert {\n",
              "      background-color: #E8F0FE;\n",
              "      border: none;\n",
              "      border-radius: 50%;\n",
              "      cursor: pointer;\n",
              "      display: none;\n",
              "      fill: #1967D2;\n",
              "      height: 32px;\n",
              "      padding: 0 0 0 0;\n",
              "      width: 32px;\n",
              "    }\n",
              "\n",
              "    .colab-df-convert:hover {\n",
              "      background-color: #E2EBFA;\n",
              "      box-shadow: 0px 1px 2px rgba(60, 64, 67, 0.3), 0px 1px 3px 1px rgba(60, 64, 67, 0.15);\n",
              "      fill: #174EA6;\n",
              "    }\n",
              "\n",
              "    .colab-df-buttons div {\n",
              "      margin-bottom: 4px;\n",
              "    }\n",
              "\n",
              "    [theme=dark] .colab-df-convert {\n",
              "      background-color: #3B4455;\n",
              "      fill: #D2E3FC;\n",
              "    }\n",
              "\n",
              "    [theme=dark] .colab-df-convert:hover {\n",
              "      background-color: #434B5C;\n",
              "      box-shadow: 0px 1px 3px 1px rgba(0, 0, 0, 0.15);\n",
              "      filter: drop-shadow(0px 1px 2px rgba(0, 0, 0, 0.3));\n",
              "      fill: #FFFFFF;\n",
              "    }\n",
              "  </style>\n",
              "\n",
              "    <script>\n",
              "      const buttonEl =\n",
              "        document.querySelector('#df-69078e17-24bf-48ee-80d0-9bb30498d3fd button.colab-df-convert');\n",
              "      buttonEl.style.display =\n",
              "        google.colab.kernel.accessAllowed ? 'block' : 'none';\n",
              "\n",
              "      async function convertToInteractive(key) {\n",
              "        const element = document.querySelector('#df-69078e17-24bf-48ee-80d0-9bb30498d3fd');\n",
              "        const dataTable =\n",
              "          await google.colab.kernel.invokeFunction('convertToInteractive',\n",
              "                                                    [key], {});\n",
              "        if (!dataTable) return;\n",
              "\n",
              "        const docLinkHtml = 'Like what you see? Visit the ' +\n",
              "          '<a target=\"_blank\" href=https://colab.research.google.com/notebooks/data_table.ipynb>data table notebook</a>'\n",
              "          + ' to learn more about interactive tables.';\n",
              "        element.innerHTML = '';\n",
              "        dataTable['output_type'] = 'display_data';\n",
              "        await google.colab.output.renderOutput(dataTable, element);\n",
              "        const docLink = document.createElement('div');\n",
              "        docLink.innerHTML = docLinkHtml;\n",
              "        element.appendChild(docLink);\n",
              "      }\n",
              "    </script>\n",
              "  </div>\n",
              "\n",
              "\n",
              "    <div id=\"df-6d83285e-7f7f-43b6-975c-534e6aad0c27\">\n",
              "      <button class=\"colab-df-quickchart\" onclick=\"quickchart('df-6d83285e-7f7f-43b6-975c-534e6aad0c27')\"\n",
              "                title=\"Suggest charts\"\n",
              "                style=\"display:none;\">\n",
              "\n",
              "<svg xmlns=\"http://www.w3.org/2000/svg\" height=\"24px\"viewBox=\"0 0 24 24\"\n",
              "     width=\"24px\">\n",
              "    <g>\n",
              "        <path d=\"M19 3H5c-1.1 0-2 .9-2 2v14c0 1.1.9 2 2 2h14c1.1 0 2-.9 2-2V5c0-1.1-.9-2-2-2zM9 17H7v-7h2v7zm4 0h-2V7h2v10zm4 0h-2v-4h2v4z\"/>\n",
              "    </g>\n",
              "</svg>\n",
              "      </button>\n",
              "\n",
              "<style>\n",
              "  .colab-df-quickchart {\n",
              "      --bg-color: #E8F0FE;\n",
              "      --fill-color: #1967D2;\n",
              "      --hover-bg-color: #E2EBFA;\n",
              "      --hover-fill-color: #174EA6;\n",
              "      --disabled-fill-color: #AAA;\n",
              "      --disabled-bg-color: #DDD;\n",
              "  }\n",
              "\n",
              "  [theme=dark] .colab-df-quickchart {\n",
              "      --bg-color: #3B4455;\n",
              "      --fill-color: #D2E3FC;\n",
              "      --hover-bg-color: #434B5C;\n",
              "      --hover-fill-color: #FFFFFF;\n",
              "      --disabled-bg-color: #3B4455;\n",
              "      --disabled-fill-color: #666;\n",
              "  }\n",
              "\n",
              "  .colab-df-quickchart {\n",
              "    background-color: var(--bg-color);\n",
              "    border: none;\n",
              "    border-radius: 50%;\n",
              "    cursor: pointer;\n",
              "    display: none;\n",
              "    fill: var(--fill-color);\n",
              "    height: 32px;\n",
              "    padding: 0;\n",
              "    width: 32px;\n",
              "  }\n",
              "\n",
              "  .colab-df-quickchart:hover {\n",
              "    background-color: var(--hover-bg-color);\n",
              "    box-shadow: 0 1px 2px rgba(60, 64, 67, 0.3), 0 1px 3px 1px rgba(60, 64, 67, 0.15);\n",
              "    fill: var(--button-hover-fill-color);\n",
              "  }\n",
              "\n",
              "  .colab-df-quickchart-complete:disabled,\n",
              "  .colab-df-quickchart-complete:disabled:hover {\n",
              "    background-color: var(--disabled-bg-color);\n",
              "    fill: var(--disabled-fill-color);\n",
              "    box-shadow: none;\n",
              "  }\n",
              "\n",
              "  .colab-df-spinner {\n",
              "    border: 2px solid var(--fill-color);\n",
              "    border-color: transparent;\n",
              "    border-bottom-color: var(--fill-color);\n",
              "    animation:\n",
              "      spin 1s steps(1) infinite;\n",
              "  }\n",
              "\n",
              "  @keyframes spin {\n",
              "    0% {\n",
              "      border-color: transparent;\n",
              "      border-bottom-color: var(--fill-color);\n",
              "      border-left-color: var(--fill-color);\n",
              "    }\n",
              "    20% {\n",
              "      border-color: transparent;\n",
              "      border-left-color: var(--fill-color);\n",
              "      border-top-color: var(--fill-color);\n",
              "    }\n",
              "    30% {\n",
              "      border-color: transparent;\n",
              "      border-left-color: var(--fill-color);\n",
              "      border-top-color: var(--fill-color);\n",
              "      border-right-color: var(--fill-color);\n",
              "    }\n",
              "    40% {\n",
              "      border-color: transparent;\n",
              "      border-right-color: var(--fill-color);\n",
              "      border-top-color: var(--fill-color);\n",
              "    }\n",
              "    60% {\n",
              "      border-color: transparent;\n",
              "      border-right-color: var(--fill-color);\n",
              "    }\n",
              "    80% {\n",
              "      border-color: transparent;\n",
              "      border-right-color: var(--fill-color);\n",
              "      border-bottom-color: var(--fill-color);\n",
              "    }\n",
              "    90% {\n",
              "      border-color: transparent;\n",
              "      border-bottom-color: var(--fill-color);\n",
              "    }\n",
              "  }\n",
              "</style>\n",
              "\n",
              "      <script>\n",
              "        async function quickchart(key) {\n",
              "          const quickchartButtonEl =\n",
              "            document.querySelector('#' + key + ' button');\n",
              "          quickchartButtonEl.disabled = true;  // To prevent multiple clicks.\n",
              "          quickchartButtonEl.classList.add('colab-df-spinner');\n",
              "          try {\n",
              "            const charts = await google.colab.kernel.invokeFunction(\n",
              "                'suggestCharts', [key], {});\n",
              "          } catch (error) {\n",
              "            console.error('Error during call to suggestCharts:', error);\n",
              "          }\n",
              "          quickchartButtonEl.classList.remove('colab-df-spinner');\n",
              "          quickchartButtonEl.classList.add('colab-df-quickchart-complete');\n",
              "        }\n",
              "        (() => {\n",
              "          let quickchartButtonEl =\n",
              "            document.querySelector('#df-6d83285e-7f7f-43b6-975c-534e6aad0c27 button');\n",
              "          quickchartButtonEl.style.display =\n",
              "            google.colab.kernel.accessAllowed ? 'block' : 'none';\n",
              "        })();\n",
              "      </script>\n",
              "    </div>\n",
              "\n",
              "    </div>\n",
              "  </div>\n"
            ],
            "application/vnd.google.colaboratory.intrinsic+json": {
              "type": "dataframe",
              "variable_name": "df"
            }
          },
          "metadata": {},
          "execution_count": 12
        }
      ],
      "source": [
        "df.head()"
      ]
    },
    {
      "cell_type": "code",
      "execution_count": 13,
      "metadata": {
        "colab": {
          "base_uri": "https://localhost:8080/",
          "height": 147
        },
        "id": "G_tjBeOW-JEt",
        "outputId": "52dcd735-a641-43a6-e4ae-35f454931132"
      },
      "outputs": [
        {
          "output_type": "execute_result",
          "data": {
            "text/plain": [
              "text     object\n",
              "humor      bool\n",
              "dtype: object"
            ],
            "text/html": [
              "<div>\n",
              "<style scoped>\n",
              "    .dataframe tbody tr th:only-of-type {\n",
              "        vertical-align: middle;\n",
              "    }\n",
              "\n",
              "    .dataframe tbody tr th {\n",
              "        vertical-align: top;\n",
              "    }\n",
              "\n",
              "    .dataframe thead th {\n",
              "        text-align: right;\n",
              "    }\n",
              "</style>\n",
              "<table border=\"1\" class=\"dataframe\">\n",
              "  <thead>\n",
              "    <tr style=\"text-align: right;\">\n",
              "      <th></th>\n",
              "      <th>0</th>\n",
              "    </tr>\n",
              "  </thead>\n",
              "  <tbody>\n",
              "    <tr>\n",
              "      <th>text</th>\n",
              "      <td>object</td>\n",
              "    </tr>\n",
              "    <tr>\n",
              "      <th>humor</th>\n",
              "      <td>bool</td>\n",
              "    </tr>\n",
              "  </tbody>\n",
              "</table>\n",
              "</div><br><label><b>dtype:</b> object</label>"
            ]
          },
          "metadata": {},
          "execution_count": 13
        }
      ],
      "source": [
        "df.dtypes"
      ]
    },
    {
      "cell_type": "markdown",
      "metadata": {
        "id": "6tl36QR_BzTY"
      },
      "source": [
        "## Handling Missing Data"
      ]
    },
    {
      "cell_type": "code",
      "execution_count": 14,
      "metadata": {
        "colab": {
          "base_uri": "https://localhost:8080/",
          "height": 147
        },
        "id": "dfhmPQJjB1QB",
        "outputId": "25251923-3426-4956-d13c-8a3283bef960"
      },
      "outputs": [
        {
          "output_type": "execute_result",
          "data": {
            "text/plain": [
              "text     False\n",
              "humor    False\n",
              "dtype: bool"
            ],
            "text/html": [
              "<div>\n",
              "<style scoped>\n",
              "    .dataframe tbody tr th:only-of-type {\n",
              "        vertical-align: middle;\n",
              "    }\n",
              "\n",
              "    .dataframe tbody tr th {\n",
              "        vertical-align: top;\n",
              "    }\n",
              "\n",
              "    .dataframe thead th {\n",
              "        text-align: right;\n",
              "    }\n",
              "</style>\n",
              "<table border=\"1\" class=\"dataframe\">\n",
              "  <thead>\n",
              "    <tr style=\"text-align: right;\">\n",
              "      <th></th>\n",
              "      <th>0</th>\n",
              "    </tr>\n",
              "  </thead>\n",
              "  <tbody>\n",
              "    <tr>\n",
              "      <th>text</th>\n",
              "      <td>False</td>\n",
              "    </tr>\n",
              "    <tr>\n",
              "      <th>humor</th>\n",
              "      <td>False</td>\n",
              "    </tr>\n",
              "  </tbody>\n",
              "</table>\n",
              "</div><br><label><b>dtype:</b> bool</label>"
            ]
          },
          "metadata": {},
          "execution_count": 14
        }
      ],
      "source": [
        "# which columns have a missing value?\n",
        "df.isnull().any(axis=0)"
      ]
    },
    {
      "cell_type": "code",
      "execution_count": 15,
      "metadata": {
        "colab": {
          "base_uri": "https://localhost:8080/"
        },
        "id": "VETGv3gDB4JX",
        "outputId": "a49d3b6a-2fd0-4fbc-ab53-d28b88c00f80"
      },
      "outputs": [
        {
          "output_type": "execute_result",
          "data": {
            "text/plain": [
              "np.int64(0)"
            ]
          },
          "metadata": {},
          "execution_count": 15
        }
      ],
      "source": [
        "# how many rows have a missing value?\n",
        "df.isnull().any(axis=1).sum()"
      ]
    },
    {
      "cell_type": "code",
      "execution_count": 16,
      "metadata": {
        "colab": {
          "base_uri": "https://localhost:8080/",
          "height": 147
        },
        "id": "bBTxbetPB5x6",
        "outputId": "302ae9a8-4ebc-41f5-cf50-868309dbd670"
      },
      "outputs": [
        {
          "output_type": "execute_result",
          "data": {
            "text/plain": [
              "text     0.0\n",
              "humor    0.0\n",
              "dtype: float64"
            ],
            "text/html": [
              "<div>\n",
              "<style scoped>\n",
              "    .dataframe tbody tr th:only-of-type {\n",
              "        vertical-align: middle;\n",
              "    }\n",
              "\n",
              "    .dataframe tbody tr th {\n",
              "        vertical-align: top;\n",
              "    }\n",
              "\n",
              "    .dataframe thead th {\n",
              "        text-align: right;\n",
              "    }\n",
              "</style>\n",
              "<table border=\"1\" class=\"dataframe\">\n",
              "  <thead>\n",
              "    <tr style=\"text-align: right;\">\n",
              "      <th></th>\n",
              "      <th>0</th>\n",
              "    </tr>\n",
              "  </thead>\n",
              "  <tbody>\n",
              "    <tr>\n",
              "      <th>text</th>\n",
              "      <td>0.0</td>\n",
              "    </tr>\n",
              "    <tr>\n",
              "      <th>humor</th>\n",
              "      <td>0.0</td>\n",
              "    </tr>\n",
              "  </tbody>\n",
              "</table>\n",
              "</div><br><label><b>dtype:</b> float64</label>"
            ]
          },
          "metadata": {},
          "execution_count": 16
        }
      ],
      "source": [
        "# proportion of missing values (for this case, since there are no missing values, all answers will be 0)\n",
        "df.isna().sum()/df.shape[0]"
      ]
    },
    {
      "cell_type": "code",
      "execution_count": 17,
      "metadata": {
        "colab": {
          "base_uri": "https://localhost:8080/",
          "height": 81
        },
        "id": "xmYqk53MB8HO",
        "outputId": "bbf7da1d-1b0c-4e47-a155-e09373e51afa"
      },
      "outputs": [
        {
          "output_type": "execute_result",
          "data": {
            "text/plain": [
              "       text  humor\n",
              "% NaN   0.0    0.0"
            ],
            "text/html": [
              "\n",
              "  <div id=\"df-3669e322-3f27-4c3d-a5c2-de0329580dc0\" class=\"colab-df-container\">\n",
              "    <div>\n",
              "<style scoped>\n",
              "    .dataframe tbody tr th:only-of-type {\n",
              "        vertical-align: middle;\n",
              "    }\n",
              "\n",
              "    .dataframe tbody tr th {\n",
              "        vertical-align: top;\n",
              "    }\n",
              "\n",
              "    .dataframe thead th {\n",
              "        text-align: right;\n",
              "    }\n",
              "</style>\n",
              "<table border=\"1\" class=\"dataframe\">\n",
              "  <thead>\n",
              "    <tr style=\"text-align: right;\">\n",
              "      <th></th>\n",
              "      <th>text</th>\n",
              "      <th>humor</th>\n",
              "    </tr>\n",
              "  </thead>\n",
              "  <tbody>\n",
              "    <tr>\n",
              "      <th>% NaN</th>\n",
              "      <td>0.0</td>\n",
              "      <td>0.0</td>\n",
              "    </tr>\n",
              "  </tbody>\n",
              "</table>\n",
              "</div>\n",
              "    <div class=\"colab-df-buttons\">\n",
              "\n",
              "  <div class=\"colab-df-container\">\n",
              "    <button class=\"colab-df-convert\" onclick=\"convertToInteractive('df-3669e322-3f27-4c3d-a5c2-de0329580dc0')\"\n",
              "            title=\"Convert this dataframe to an interactive table.\"\n",
              "            style=\"display:none;\">\n",
              "\n",
              "  <svg xmlns=\"http://www.w3.org/2000/svg\" height=\"24px\" viewBox=\"0 -960 960 960\">\n",
              "    <path d=\"M120-120v-720h720v720H120Zm60-500h600v-160H180v160Zm220 220h160v-160H400v160Zm0 220h160v-160H400v160ZM180-400h160v-160H180v160Zm440 0h160v-160H620v160ZM180-180h160v-160H180v160Zm440 0h160v-160H620v160Z\"/>\n",
              "  </svg>\n",
              "    </button>\n",
              "\n",
              "  <style>\n",
              "    .colab-df-container {\n",
              "      display:flex;\n",
              "      gap: 12px;\n",
              "    }\n",
              "\n",
              "    .colab-df-convert {\n",
              "      background-color: #E8F0FE;\n",
              "      border: none;\n",
              "      border-radius: 50%;\n",
              "      cursor: pointer;\n",
              "      display: none;\n",
              "      fill: #1967D2;\n",
              "      height: 32px;\n",
              "      padding: 0 0 0 0;\n",
              "      width: 32px;\n",
              "    }\n",
              "\n",
              "    .colab-df-convert:hover {\n",
              "      background-color: #E2EBFA;\n",
              "      box-shadow: 0px 1px 2px rgba(60, 64, 67, 0.3), 0px 1px 3px 1px rgba(60, 64, 67, 0.15);\n",
              "      fill: #174EA6;\n",
              "    }\n",
              "\n",
              "    .colab-df-buttons div {\n",
              "      margin-bottom: 4px;\n",
              "    }\n",
              "\n",
              "    [theme=dark] .colab-df-convert {\n",
              "      background-color: #3B4455;\n",
              "      fill: #D2E3FC;\n",
              "    }\n",
              "\n",
              "    [theme=dark] .colab-df-convert:hover {\n",
              "      background-color: #434B5C;\n",
              "      box-shadow: 0px 1px 3px 1px rgba(0, 0, 0, 0.15);\n",
              "      filter: drop-shadow(0px 1px 2px rgba(0, 0, 0, 0.3));\n",
              "      fill: #FFFFFF;\n",
              "    }\n",
              "  </style>\n",
              "\n",
              "    <script>\n",
              "      const buttonEl =\n",
              "        document.querySelector('#df-3669e322-3f27-4c3d-a5c2-de0329580dc0 button.colab-df-convert');\n",
              "      buttonEl.style.display =\n",
              "        google.colab.kernel.accessAllowed ? 'block' : 'none';\n",
              "\n",
              "      async function convertToInteractive(key) {\n",
              "        const element = document.querySelector('#df-3669e322-3f27-4c3d-a5c2-de0329580dc0');\n",
              "        const dataTable =\n",
              "          await google.colab.kernel.invokeFunction('convertToInteractive',\n",
              "                                                    [key], {});\n",
              "        if (!dataTable) return;\n",
              "\n",
              "        const docLinkHtml = 'Like what you see? Visit the ' +\n",
              "          '<a target=\"_blank\" href=https://colab.research.google.com/notebooks/data_table.ipynb>data table notebook</a>'\n",
              "          + ' to learn more about interactive tables.';\n",
              "        element.innerHTML = '';\n",
              "        dataTable['output_type'] = 'display_data';\n",
              "        await google.colab.output.renderOutput(dataTable, element);\n",
              "        const docLink = document.createElement('div');\n",
              "        docLink.innerHTML = docLinkHtml;\n",
              "        element.appendChild(docLink);\n",
              "      }\n",
              "    </script>\n",
              "  </div>\n",
              "\n",
              "\n",
              "    </div>\n",
              "  </div>\n"
            ],
            "application/vnd.google.colaboratory.intrinsic+json": {
              "type": "dataframe",
              "summary": "{\n  \"name\": \"pd\",\n  \"rows\": 1,\n  \"fields\": [\n    {\n      \"column\": \"text\",\n      \"properties\": {\n        \"dtype\": \"number\",\n        \"std\": null,\n        \"min\": 0.0,\n        \"max\": 0.0,\n        \"num_unique_values\": 1,\n        \"samples\": [\n          0.0\n        ],\n        \"semantic_type\": \"\",\n        \"description\": \"\"\n      }\n    },\n    {\n      \"column\": \"humor\",\n      \"properties\": {\n        \"dtype\": \"number\",\n        \"std\": null,\n        \"min\": 0.0,\n        \"max\": 0.0,\n        \"num_unique_values\": 1,\n        \"samples\": [\n          0.0\n        ],\n        \"semantic_type\": \"\",\n        \"description\": \"\"\n      }\n    }\n  ]\n}"
            }
          },
          "metadata": {},
          "execution_count": 17
        }
      ],
      "source": [
        "# what percent of each column is missing? (again all 0, because no values are missing)\n",
        "df_nan = round(100*df.isna().sum()/df.shape[0],2)\n",
        "index = df_nan.index\n",
        "\n",
        "pd.DataFrame({ '% NaN': df_nan}, index=index).T"
      ]
    },
    {
      "cell_type": "markdown",
      "metadata": {
        "id": "w6qWoXBHCDPm"
      },
      "source": [
        "## Exploring Data Characteristics"
      ]
    },
    {
      "cell_type": "markdown",
      "metadata": {
        "id": "pXh41nOOC17r"
      },
      "source": [
        "## Data Transformations"
      ]
    },
    {
      "cell_type": "code",
      "execution_count": 18,
      "metadata": {
        "id": "lXpbIrlGCCek"
      },
      "outputs": [],
      "source": [
        "# perform one-hot enoding, so that the model can understand whether a text in the dataset is classified as funny or not.\n",
        "df['is_funny'] = df['humor'].apply(lambda x: 0 if x == False else 1)\n",
        "df = df.drop(['humor'], axis=1)"
      ]
    },
    {
      "cell_type": "code",
      "execution_count": 19,
      "metadata": {
        "colab": {
          "base_uri": "https://localhost:8080/",
          "height": 147
        },
        "id": "d0RtoLBkAZu_",
        "outputId": "a6f537dd-b420-4c2f-fb26-1fac2f356609"
      },
      "outputs": [
        {
          "output_type": "execute_result",
          "data": {
            "text/plain": [
              "text        object\n",
              "is_funny     int64\n",
              "dtype: object"
            ],
            "text/html": [
              "<div>\n",
              "<style scoped>\n",
              "    .dataframe tbody tr th:only-of-type {\n",
              "        vertical-align: middle;\n",
              "    }\n",
              "\n",
              "    .dataframe tbody tr th {\n",
              "        vertical-align: top;\n",
              "    }\n",
              "\n",
              "    .dataframe thead th {\n",
              "        text-align: right;\n",
              "    }\n",
              "</style>\n",
              "<table border=\"1\" class=\"dataframe\">\n",
              "  <thead>\n",
              "    <tr style=\"text-align: right;\">\n",
              "      <th></th>\n",
              "      <th>0</th>\n",
              "    </tr>\n",
              "  </thead>\n",
              "  <tbody>\n",
              "    <tr>\n",
              "      <th>text</th>\n",
              "      <td>object</td>\n",
              "    </tr>\n",
              "    <tr>\n",
              "      <th>is_funny</th>\n",
              "      <td>int64</td>\n",
              "    </tr>\n",
              "  </tbody>\n",
              "</table>\n",
              "</div><br><label><b>dtype:</b> object</label>"
            ]
          },
          "metadata": {},
          "execution_count": 19
        }
      ],
      "source": [
        "# checks to see that all features were properly encoded\n",
        "df.dtypes"
      ]
    },
    {
      "cell_type": "markdown",
      "metadata": {
        "id": "Sy42NVBdDQwR"
      },
      "source": [
        "I did not standardize the dataset beause if we want to standardize our data, we would need to assume that the data is continuous and normally distributed data. However, this is not true for out dataset, and therefore we do not normalize the dataset."
      ]
    },
    {
      "cell_type": "markdown",
      "metadata": {
        "id": "mRNUwmuqBc_W"
      },
      "source": [
        "## Visualize"
      ]
    },
    {
      "cell_type": "code",
      "execution_count": 20,
      "metadata": {
        "colab": {
          "base_uri": "https://localhost:8080/",
          "height": 472
        },
        "id": "5nAefqO-Ex21",
        "outputId": "061e312b-5438-4427-ce5a-8c0ec11b8a61"
      },
      "outputs": [
        {
          "output_type": "display_data",
          "data": {
            "text/plain": [
              "<Figure size 640x480 with 1 Axes>"
            ],
            "image/png": "[encoded data removed]"
          },
          "metadata": {}
        }
      ],
      "source": [
        "# Checking the distribution of funny and not funny sentences\n",
        "sns.countplot(x='is_funny', data=df)\n",
        "plt.title(\"Class Distribution\")\n",
        "plt.xlabel(\"Label (0 = Not Funny, 1 = Funny)\")\n",
        "plt.ylabel(\"Count\")\n",
        "plt.show()"
      ]
    },
    {
      "cell_type": "code",
      "execution_count": 21,
      "metadata": {
        "colab": {
          "base_uri": "https://localhost:8080/",
          "height": 472
        },
        "id": "Nk3WmkWtFBTH",
        "outputId": "66e97a4b-e900-4d5c-9e8d-aa601eda83f8"
      },
      "outputs": [
        {
          "output_type": "display_data",
          "data": {
            "text/plain": [
              "<Figure size 640x480 with 1 Axes>"
            ],
            "image/png": "[encoded data removed]"
          },
          "metadata": {}
        }
      ],
      "source": [
        "# distributions for word count of a single sentence for the funny and unfunny sentences\n",
        "df['word_count'] = df['text'].apply(lambda x: len(x.split()))\n",
        "\n",
        "sns.boxplot(data=df, x='is_funny', y='word_count')\n",
        "plt.title(\"Word Count Distribution by Label\")\n",
        "plt.xlabel(\"Label\")\n",
        "plt.ylabel(\"Word Count\")\n",
        "plt.show()"
      ]
    },
    {
      "cell_type": "markdown",
      "metadata": {
        "id": "P8jgtJ2DF0I4"
      },
      "source": [
        "## Findings"
      ]
    },
    {
      "cell_type": "markdown",
      "metadata": {
        "id": "zb7nmHB3F2Ds"
      },
      "source": [
        "I have found that there are the same number of funny and unfunny sentences in the dataset. I have also found that, on average, senteces that are considered funny, also have more words in them."
      ]
    },
    {
      "cell_type": "markdown",
      "metadata": {
        "id": "gS1uzkS_GoXt"
      },
      "source": [
        "# Training and Evaluation"
      ]
    },
    {
      "cell_type": "code",
      "execution_count": 22,
      "metadata": {
        "id": "4U6Gb9KXyGxk"
      },
      "outputs": [],
      "source": [
        "# number of unique words that will be stored in our embeddings\n",
        "VOCAB_SIZE = 5000\n",
        "# convert each joke into list of integers using one hot encoding. Each word\n",
        "# is mapped to a unique integer, between [1, VOCAB_SIZE].\n",
        "encoded_jokes = [one_hot(d, VOCAB_SIZE) for d in df['text'] ]\n",
        "# ensures that all encoded sequences have the same length\n",
        "padded_jokes = pad_sequences(encoded_jokes, padding='post')"
      ]
    },
    {
      "cell_type": "code",
      "execution_count": 23,
      "metadata": {
        "colab": {
          "base_uri": "https://localhost:8080/"
        },
        "id": "QqLAQ_c1CjDJ",
        "outputId": "67e8fd51-fedc-4394-ed40-f89e3f4dba34"
      },
      "outputs": [
        {
          "output_type": "stream",
          "name": "stdout",
          "text": [
            "[[ 480  464  623 ...    0    0    0]\n",
            " [3832 2771 2273 ...    0    0    0]\n",
            " [ 203 1463 1113 ...    0    0    0]\n",
            " ...\n",
            " [3822 3447 3327 ...    0    0    0]\n",
            " [4296 2338 4956 ...    0    0    0]\n",
            " [ 794  548 3869 ...    0    0    0]]\n"
          ]
        }
      ],
      "source": [
        "print(padded_jokes)"
      ]
    },
    {
      "cell_type": "code",
      "execution_count": 24,
      "metadata": {
        "id": "Pdbni9ef_5jx",
        "colab": {
          "base_uri": "https://localhost:8080/"
        },
        "outputId": "e06e36fe-6ccc-4885-991f-cf1352395742"
      },
      "outputs": [
        {
          "output_type": "stream",
          "name": "stdout",
          "text": [
            "Epoch 1/3\n",
            "\u001b[1m4000/4000\u001b[0m \u001b[32m━━━━━━━━━━━━━━━━━━━━\u001b[0m\u001b[37m\u001b[0m \u001b[1m26s\u001b[0m 6ms/step - accuracy: 0.9018 - loss: 0.2405 - val_accuracy: 0.9377 - val_loss: 0.1621\n",
            "Epoch 2/3\n",
            "\u001b[1m4000/4000\u001b[0m \u001b[32m━━━━━━━━━━━━━━━━━━━━\u001b[0m\u001b[37m\u001b[0m \u001b[1m26s\u001b[0m 6ms/step - accuracy: 0.9521 - loss: 0.1271 - val_accuracy: 0.9378 - val_loss: 0.1628\n",
            "Epoch 3/3\n",
            "\u001b[1m4000/4000\u001b[0m \u001b[32m━━━━━━━━━━━━━━━━━━━━\u001b[0m\u001b[37m\u001b[0m \u001b[1m25s\u001b[0m 6ms/step - accuracy: 0.9688 - loss: 0.0795 - val_accuracy: 0.9322 - val_loss: 0.1964\n"
          ]
        },
        {
          "output_type": "execute_result",
          "data": {
            "text/plain": [
              "<keras.src.callbacks.history.History at 0x7ec05658f7d0>"
            ]
          },
          "metadata": {},
          "execution_count": 24
        }
      ],
      "source": [
        "# feedforward neural network\n",
        "# each input sentence is passed through an embedding layer, flattened, and then\n",
        "# fed through two fully connected layers with ReLU activation, followed by a sigmoid\n",
        "# output neuron to predict probability of being funny.\n",
        "model = Sequential()\n",
        "model.add(Embedding(input_dim=5000, output_dim=32))\n",
        "model.add(Flatten())\n",
        "model.add(Dense(128, activation='relu'))\n",
        "model.add(Dropout(0.2))\n",
        "model.add(Dense(64, activation='relu'))\n",
        "model.add(Dropout(0.2))\n",
        "model.add(Dense(1, activation='sigmoid'))\n",
        "\n",
        "# prepares model for training\n",
        "# the cost function we will use is binary crossentropy using Adam optimizer for gradient descent\n",
        "# I shouldn't normalize my inputs, because my input layer is an embedding layer. Therefore, each joke\n",
        "# is represented as a list of integers, where each integer is a word index. Therefore, normalizing the data\n",
        "# would hurt the model's accuracy, as it would associate the wrong words to the wrong indices.\n",
        "model.compile(optimizer='adam', loss='binary_crossentropy', metrics=['accuracy'])\n",
        "\n",
        "# train test split\n",
        "X_train, X_test, y_train, y_test = train_test_split(padded_jokes, df['is_funny'], test_size=0.2, random_state=42)\n",
        "\n",
        "# does the split for validation, and fits the model with the data\n",
        "# here is the part where the forward and backward propagation occurs\n",
        "model.fit(x=X_train, y=y_train, validation_split=0.2, epochs= 3, batch_size=32)"
      ]
    },
    {
      "cell_type": "code",
      "execution_count": 25,
      "metadata": {
        "colab": {
          "base_uri": "https://localhost:8080/"
        },
        "id": "wPfetumpDXJh",
        "outputId": "9f436d14-97f4-4d55-b36b-d6fcb8bfe9e0"
      },
      "outputs": [
        {
          "output_type": "stream",
          "name": "stdout",
          "text": [
            "\u001b[1m1250/1250\u001b[0m \u001b[32m━━━━━━━━━━━━━━━━━━━━\u001b[0m\u001b[37m\u001b[0m \u001b[1m3s\u001b[0m 3ms/step - accuracy: 0.9279 - loss: 0.2135\n"
          ]
        },
        {
          "output_type": "execute_result",
          "data": {
            "text/plain": [
              "[0.2041085809469223, 0.9292749762535095]"
            ]
          },
          "metadata": {},
          "execution_count": 25
        }
      ],
      "source": [
        "# presenting the results (loss, accuracy)\n",
        "model.evaluate(X_test, y_test)"
      ]
    },
    {
      "cell_type": "markdown",
      "metadata": {
        "id": "H7lDQdtu9lFg"
      },
      "source": [
        "## Task 3\n",
        "In task 2 describe how you selected the hyperparameters. What was the\n",
        "rationale behind the technique you used? Did you use regularization? Why, or why not? Did you use\n",
        "an optimization algorithm? Why or why not?"
      ]
    },
    {
      "cell_type": "markdown",
      "metadata": {
        "id": "_BnPISDv-LW8"
      },
      "source": [
        "*   I chose a vocab size of 5000, as it is large enough to capture common words, while also being a manageable size.\n",
        "*   I chose to have the embedding dimension equal to 32, as this is standard\n",
        "*   I also chose the dense layer sizes, as these are the standards.\n",
        "*   I chose to epoch size of 3, as I found that it trained the model realtively quickly, whlie also having a high accuracy\n",
        "*   I chose a batch size of 32, as this is a common value used.\n",
        "\n",
        "I did use a regulatization techinque (Dropout), as it helps prevent the model from overfitting. I chose dropout rate equal to 0.2, as this is a common value used.\n",
        "\n",
        "I used the Adam optimizer, because of the fact that it automatically adjusts learning rates. It also converges faster than regular gradient descent, resulting in a faster compute time.\n",
        "\n",
        "\n",
        "\n",
        "\n",
        "\n"
      ]
    }
  ],
  "metadata": {
    "colab": {
      "provenance": []
    },
    "kernelspec": {
      "display_name": "Python 3",
      "name": "python3"
    },
    "language_info": {
      "name": "python"
    }
  },
  "nbformat": 4,
  "nbformat_minor": 0
}